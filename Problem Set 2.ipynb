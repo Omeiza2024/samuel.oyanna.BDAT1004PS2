{
 "cells": [
  {
   "cell_type": "markdown",
   "id": "78006cb9-7da1-4a11-a203-4f89d4bfd879",
   "metadata": {},
   "source": [
    "# Question 1\n",
    "Consider the following Python module"
   ]
  },
  {
   "cell_type": "code",
   "execution_count": 8,
   "id": "e980d0f0-545d-4126-9618-a0b80f2c9a8e",
   "metadata": {},
   "outputs": [
    {
     "name": "stdout",
     "output_type": "stream",
     "text": [
      "6\n"
     ]
    }
   ],
   "source": [
    "\n",
    "a = 0\n",
    "\n",
    "def b():\n",
    "    global a\n",
    "    a = c(a)\n",
    "\n",
    "def c(a):\n",
    "    return a + 2\n",
    "b()\n",
    "b()\n",
    "\n",
    "b()\n",
    "print(a)  \n"
   ]
  },
  {
   "cell_type": "markdown",
   "id": "94a2b050-bc99-491b-b5f9-f13db027fcfa",
   "metadata": {},
   "source": [
    "# Question 2\n",
    "Function fileLength(), given to you, takes the name of a file as input and returns\n",
    "the length of the file:\n"
   ]
  },
  {
   "cell_type": "code",
   "execution_count": 1,
   "id": "efecc00a-e1ce-43df-860b-cf2d26a87495",
   "metadata": {},
   "outputs": [
    {
     "name": "stdout",
     "output_type": "stream",
     "text": [
      "File idterm.py not found.\n"
     ]
    },
    {
     "data": {
      "text/plain": [
       "123"
      ]
     },
     "execution_count": 1,
     "metadata": {},
     "output_type": "execute_result"
    }
   ],
   "source": [
    "def fileLength(filename):\n",
    "    try:\n",
    "        with open(filename, 'r') as infile:\n",
    "            contents = infile.read()\n",
    "        return len(contents)\n",
    "    except FileNotFoundError:\n",
    "        print(f\"File {filename} not found.\")\n",
    "\n",
    "fileLength('idterm.py')          \n",
    "fileLength('filelength.txt') \n"
   ]
  },
  {
   "cell_type": "markdown",
   "id": "6cbab574-dfc7-484f-b7b1-e7ab13df2c8e",
   "metadata": {},
   "source": [
    "# Question 3\n",
    "Write a class named Marsupial that can be used as shown below:"
   ]
  },
  {
   "cell_type": "code",
   "execution_count": 4,
   "id": "6f18f29c-5318-41d0-b88c-50715c523da5",
   "metadata": {},
   "outputs": [
    {
     "name": "stdout",
     "output_type": "stream",
     "text": [
      "I am a Kangaroo located at coordinates (0,0)\n",
      "['doll', 'firetruck', 'kitten']\n",
      "I am a Kangaroo located at coordinates (3,0)\n"
     ]
    }
   ],
   "source": [
    "\n",
    "class Marsupial:\n",
    "    def __init__(self):\n",
    "        self.pouch = []\n",
    "\n",
    "    def put_in_pouch(self, item):\n",
    "        self.pouch.append(item)\n",
    "\n",
    "    def pouch_contents(self):\n",
    "        return self.pouch\n",
    "\n",
    "class Kangaroo(Marsupial):\n",
    "    def __init__(self, x, y):\n",
    "        super().__init__()  \n",
    "        self.x = x  \n",
    "        self.y = y  \n",
    "\n",
    "    def jump(self, dx, dy):\n",
    "        self.x += dx  \n",
    "        self.y += dy  \n",
    "\n",
    "    def __str__(self):\n",
    "        return f\"I am a Kangaroo located at coordinates ({self.x},{self.y})\"\n",
    "k = Kangaroo(0, 0)\n",
    "print(k) \n",
    "k.put_in_pouch('doll')\n",
    "k.put_in_pouch('firetruck')\n",
    "k.put_in_pouch('kitten')\n",
    "print(k.pouch_contents())  \n",
    "k.jump(1, 0)\n",
    "k.jump(1, 0)\n",
    "k.jump(1, 0)\n",
    "print(k)  "
   ]
  },
  {
   "cell_type": "markdown",
   "id": "045393f2-aae6-453a-9e28-ec0285b5a3f7",
   "metadata": {},
   "source": [
    "# Question 4\n",
    "Write function collatz() that takes a positive integer x as input and prints the\n",
    "Collatz sequence starting at x. A Collatz sequence is obtained by repeatedly applying\n",
    "this rule to the previous number x in the sequence"
   ]
  },
  {
   "cell_type": "code",
   "execution_count": 8,
   "id": "bf5030b3-e941-42c1-b816-1e79c2a0197f",
   "metadata": {},
   "outputs": [
    {
     "name": "stdout",
     "output_type": "stream",
     "text": [
      "1\n",
      "-----\n",
      "10\n",
      "5\n",
      "16\n",
      "8\n",
      "4\n",
      "2\n",
      "1\n"
     ]
    }
   ],
   "source": [
    "def collatz(x):\n",
    "    print(x)\n",
    "    if x == 1:  # Base case: stop when x reaches 1\n",
    "        return\n",
    "    elif x % 2 == 0:  # If x is even\n",
    "        collatz(x // 2)\n",
    "    else:  \n",
    "        collatz(3 * x + 1)\n",
    "\n",
    "collatz(1)  \n",
    "print(\"-----\")\n",
    "collatz(10)  \n"
   ]
  },
  {
   "cell_type": "markdown",
   "id": "f42e97ff-29e9-4718-9868-dc17b2bc9a42",
   "metadata": {},
   "source": [
    "# Question 5\n",
    "Write a recursive method binary() that takes a non-negative\n",
    "integer n and prints the binary representation of integer n."
   ]
  },
  {
   "cell_type": "code",
   "execution_count": 11,
   "id": "1d58687d-501c-4eba-8963-20770382bb21",
   "metadata": {},
   "outputs": [
    {
     "name": "stdout",
     "output_type": "stream",
     "text": [
      "0\n",
      "1\n",
      "11\n",
      "1001\n"
     ]
    }
   ],
   "source": [
    "def binary(n):\n",
    "    if n < 2:  \n",
    "        return str(n)\n",
    "    else:\n",
    "        return binary(n // 2) + str(n % 2)  \n",
    "\n",
    "print(binary(0))  \n",
    "print(binary(1)) \n",
    "print(binary(3))  \n",
    "print(binary(9))  \n"
   ]
  },
  {
   "cell_type": "markdown",
   "id": "895a1d98-62e2-4588-ba73-24ae26cc5f96",
   "metadata": {},
   "source": [
    "# Question 6\n",
    "Implement a class named HeadingParser that can be used to parse an HTML\n",
    "document"
   ]
  },
  {
   "cell_type": "code",
   "execution_count": 25,
   "id": "66808d38-5837-4ab9-ae92-a6e66de24bdf",
   "metadata": {},
   "outputs": [
    {
     "name": "stdout",
     "output_type": "stream",
     "text": [
      "W3C Mission\n",
      " Principles\n"
     ]
    }
   ],
   "source": [
    "from html.parser import HTMLParser\n",
    "\n",
    "class HeadingParser(HTMLParser):\n",
    "    def __init__(self):\n",
    "        super().__init__()\n",
    "        self.in_heading = False\n",
    "        self.heading_level = 0\n",
    "\n",
    "    def handle_starttag(self, tag, attrs):\n",
    "        if tag in ['h1', 'h2', 'h3', 'h4', 'h5', 'h6']:\n",
    "            self.in_heading = True\n",
    "            self.heading_level = int(tag[1]) - 1  # Calculate indentation based on heading level\n",
    "\n",
    "    def handle_endtag(self, tag):\n",
    "        if tag in ['h1', 'h2', 'h3', 'h4', 'h5', 'h6']:\n",
    "            self.in_heading = False\n",
    "\n",
    "    def handle_data(self, data):\n",
    "        if self.in_heading:\n",
    "            print(\" \" * self.heading_level + data.strip())  # Indent according to heading level\n",
    "\n",
    "# To test with a file (like 'w3c.html'):\n",
    "try:\n",
    "    infile = open('w3c.txt', 'r')\n",
    "    content = infile.read()\n",
    "    infile.close()\n",
    "\n",
    "    hp = HeadingParser()\n",
    "    hp.feed(content)\n",
    "except FileNotFoundError:\n",
    "    print(\"File 'w3c.html' not found. Please make sure the file is in the correct directory.\")\n"
   ]
  },
  {
   "cell_type": "markdown",
   "id": "cbd4b862-e21f-49cb-8829-6c6a699ec348",
   "metadata": {},
   "source": [
    "# Question 7\n",
    "Implement Recursive Function"
   ]
  },
  {
   "cell_type": "code",
   "execution_count": 39,
   "id": "92d41a66-ca43-47b1-8d95-922935651ed1",
   "metadata": {},
   "outputs": [
    {
     "name": "stdout",
     "output_type": "stream",
     "text": [
      "http://reed.cs.depaul.edu/lperkovic/csc242/test1.html\n",
      "Could not retrieve page at http://reed.cs.depaul.edu/lperkovic/csc242/test1.html: 404 Client Error:  for url: http://reed.cs.depaul.edu/lperkovic/csc242/test1.html\n"
     ]
    }
   ],
   "source": [
    "import requests\n",
    "from bs4 import BeautifulSoup\n",
    "from urllib.parse import urljoin\n",
    "\n",
    "def webdir(url, depth, indent):\n",
    "\n",
    "    print(\" \" * indent + url)\n",
    "    \n",
    "    if depth == 0:\n",
    "        return\n",
    "    \n",
    "    try:\n",
    "        response = requests.get(url)\n",
    "        response.raise_for_status()  # Raise an error for invalid responses\n",
    "        \n",
    "        # Parse the page content\n",
    "        soup = BeautifulSoup(response.text, 'html.parser')\n",
    "        \n",
    "        # Find all links on the page\n",
    "        for link in soup.find_all('a', href=True):\n",
    "            child_url = urljoin(url, link['href'])\n",
    "            webdir(child_url, depth - 1, indent + 1)\n",
    "    except requests.RequestException as e:\n",
    "        print(f\"Could not retrieve page at {url}: {e}\")\n",
    "\n",
    "# Example usage\n",
    "# Uncomment and use the line below to test the function with an actual URL\n",
    "webdir('http://reed.cs.depaul.edu/lperkovic/csc242/test1.html', 2, 0)\n"
   ]
  },
  {
   "cell_type": "markdown",
   "id": "98a6fa81-8bbe-4a56-9e42-ea2152312c84",
   "metadata": {},
   "source": [
    "# Question 8\n",
    "Write SQL queries on the below database table"
   ]
  },
  {
   "cell_type": "code",
   "execution_count": 45,
   "id": "f1bb67aa-8090-4f5e-bd50-cb3c26b02cc2",
   "metadata": {},
   "outputs": [
    {
     "name": "stdout",
     "output_type": "stream",
     "text": [
      "a) All the temperature data:\n",
      "24.8\n",
      "28.4\n",
      "27.9\n",
      "27.6\n",
      "4.2\n",
      "8.3\n",
      "15.7\n",
      "10.4\n",
      "13.6\n",
      "20.7\n",
      "27.7\n",
      "22.2\n",
      "\n",
      "b) All the cities, but without repetition:\n",
      "Mumbai\n",
      "London\n",
      "Cairo\n",
      "\n",
      "c) All the records for India:\n",
      "('Mumbai', 'India', 'Winter', 24.8, 5.9)\n",
      "('Mumbai', 'India', 'Spring', 28.4, 16.2)\n",
      "('Mumbai', 'India', 'Summer', 27.9, 1549.4)\n",
      "('Mumbai', 'India', 'Fall', 27.6, 346.0)\n",
      "\n",
      "d) All the Fall records:\n",
      "('Mumbai', 'India', 'Fall', 27.6, 346.0)\n",
      "('London', 'United Kingdom', 'Fall', 10.4, 218.5)\n",
      "('Cairo', 'Egypt', 'Fall', 22.2, 4.5)\n",
      "\n",
      "e) The city, country, and season for which the average rainfall is between 200 and 400 millimeters:\n",
      "('London', 'United Kingdom', 'Fall')\n",
      "('London', 'United Kingdom', 'Winter')\n",
      "('Mumbai', 'India', 'Fall')\n",
      "\n",
      "f) The city and country for which the average Fall temperature is above 20 degrees, in increasing temperature order:\n",
      "('Cairo', 'Egypt')\n",
      "('Mumbai', 'India')\n",
      "\n",
      "g) The total annual rainfall for Cairo:\n",
      "27.6\n",
      "\n",
      "h) The total rainfall for each season:\n",
      "('Fall', 569.0)\n",
      "('Spring', 192.29999999999998)\n",
      "('Summer', 1706.5)\n",
      "('Winter', 230.1)\n"
     ]
    }
   ],
   "source": [
    "import sqlite3\n",
    "\n",
    "conn = sqlite3.connect(':memory:')\n",
    "cursor = conn.cursor()\n",
    "\n",
    "\n",
    "cursor.execute('''\n",
    "CREATE TABLE Weather (\n",
    "    City TEXT,\n",
    "    Country TEXT,\n",
    "    Season TEXT,\n",
    "    Temperature REAL,\n",
    "    Rainfall REAL\n",
    ")\n",
    "''')\n",
    "\n",
    "data = [\n",
    "    ('Mumbai', 'India', 'Winter', 24.8, 5.9),\n",
    "    ('Mumbai', 'India', 'Spring', 28.4, 16.2),\n",
    "    ('Mumbai', 'India', 'Summer', 27.9, 1549.4),\n",
    "    ('Mumbai', 'India', 'Fall', 27.6, 346.0),\n",
    "    ('London', 'United Kingdom', 'Winter', 4.2, 207.7),\n",
    "    ('London', 'United Kingdom', 'Spring', 8.3, 169.6),\n",
    "    ('London', 'United Kingdom', 'Summer', 15.7, 157.0),\n",
    "    ('London', 'United Kingdom', 'Fall', 10.4, 218.5),\n",
    "    ('Cairo', 'Egypt', 'Winter', 13.6, 16.5),\n",
    "    ('Cairo', 'Egypt', 'Spring', 20.7, 6.5),\n",
    "    ('Cairo', 'Egypt', 'Summer', 27.7, 0.1),\n",
    "    ('Cairo', 'Egypt', 'Fall', 22.2, 4.5)\n",
    "]\n",
    "cursor.executemany('INSERT INTO Weather VALUES (?, ?, ?, ?, ?)', data)\n",
    "\n",
    " a) All the temperature data\n",
    "cursor.execute(\"SELECT Temperature FROM Weather\")\n",
    "print(\"a) All the temperature data:\")\n",
    "for row in cursor.fetchall():\n",
    "    print(row[0])\n",
    "\n",
    "b) All the cities, but without repetition\n",
    "cursor.execute(\"SELECT DISTINCT City FROM Weather\")\n",
    "print(\"\\nb) All the cities, but without repetition:\")\n",
    "for row in cursor.fetchall():\n",
    "    print(row[0])\n",
    "\n",
    " c) All the records for India\n",
    "cursor.execute(\"SELECT * FROM Weather WHERE Country = 'India'\")\n",
    "print(\"\\nc) All the records for India:\")\n",
    "for row in cursor.fetchall():\n",
    "    print(row)\n",
    "\n",
    " d) All the Fall records\n",
    "cursor.execute(\"SELECT * FROM Weather WHERE Season = 'Fall'\")\n",
    "print(\"\\nd) All the Fall records:\")\n",
    "for row in cursor.fetchall():\n",
    "    print(row)\n",
    "\n",
    " e) The city, country, and season for which the average rainfall is between 200 and 400 millimeters\n",
    "cursor.execute('''\n",
    "SELECT City, Country, Season\n",
    "FROM Weather\n",
    "GROUP BY City, Country, Season\n",
    "HAVING AVG(Rainfall) BETWEEN 200 AND 400\n",
    "''')\n",
    "print(\"\\ne) The city, country, and season for which the average rainfall is between 200 and 400 millimeters:\")\n",
    "for row in cursor.fetchall():\n",
    "    print(row)\n",
    "\n",
    " f) The city and country for which the average Fall temperature is above 20 degrees, in increasing temperature order\n",
    "cursor.execute('''\n",
    "SELECT City, Country\n",
    "FROM Weather\n",
    "WHERE Season = 'Fall'\n",
    "GROUP BY City, Country\n",
    "HAVING AVG(Temperature) > 20\n",
    "ORDER BY AVG(Temperature) ASC\n",
    "''')\n",
    "print(\"\\nf) The city and country for which the average Fall temperature is above 20 degrees, in increasing temperature order:\")\n",
    "for row in cursor.fetchall():\n",
    "    print(row)\n",
    "\n",
    " g) The total annual rainfall for Cairo\n",
    "cursor.execute('''\n",
    "SELECT SUM(Rainfall) AS Total_Annual_Rainfall\n",
    "FROM Weather\n",
    "WHERE City = 'Cairo'\n",
    "''')\n",
    "print(\"\\ng) The total annual rainfall for Cairo:\")\n",
    "print(cursor.fetchone()[0])\n",
    "\n",
    " h) The total rainfall for each season\n",
    "cursor.execute('''\n",
    "SELECT Season, SUM(Rainfall) AS Total_Seasonal_Rainfall\n",
    "FROM Weather\n",
    "GROUP BY Season\n",
    "''')\n",
    "print(\"\\nh) The total rainfall for each season:\")\n",
    "for row in cursor.fetchall():\n",
    "    print(row)\n",
    "\n",
    "conn.close()\n"
   ]
  },
  {
   "cell_type": "markdown",
   "id": "1c7517c0-3ec2-4a68-9fd9-97b272544a25",
   "metadata": {},
   "source": [
    "# Question 9\n",
    "Definition of list of words"
   ]
  },
  {
   "cell_type": "code",
   "execution_count": 48,
   "id": "52dcab61-cfd0-44f4-8342-0130e1ba44a7",
   "metadata": {},
   "outputs": [
    {
     "name": "stdout",
     "output_type": "stream",
     "text": [
      "a) ['THE', 'QUICK', 'BROWN', 'FOX', 'JUMPS', 'OVER', 'THE', 'LAZY', 'DOG']\n",
      "b) ['the', 'quick', 'brown', 'fox', 'jumps', 'over', 'the', 'lazy', 'dog']\n",
      "c) [3, 5, 5, 3, 5, 4, 3, 4, 3]\n",
      "d) [['THE', 'the', 3], ['QUICK', 'quick', 5], ['BROWN', 'brown', 5], ['FOX', 'fox', 3], ['JUMPS', 'jumps', 5], ['OVER', 'over', 4], ['THE', 'the', 3], ['LAZY', 'lazy', 4], ['DOG', 'dog', 3]]\n",
      "e) ['quick', 'brown', 'jumps', 'over', 'lazy']\n"
     ]
    }
   ],
   "source": [
    "words = ['The', 'quick', 'brown', 'fox', 'jumps', 'over', 'the', 'lazy', 'dog']\n",
    "\n",
    "uppercase_words = [word.upper() for word in words]\n",
    "print(\"a)\", uppercase_word\n",
    "      \n",
    "lowercase_words = [word.lower() for word in words]\n",
    "print(\"b)\", lowercase_words)\n",
    "\n",
    "word_lengths = [len(word) for word in words]\n",
    "print(\"c)\", word_lengths)\n",
    "\n",
    "word_info = [[word.upper(), word.lower(), len(word)] for word in words]\n",
    "print(\"d)\", word_info\n",
    "      \n",
    "long_words = [word for word in words if len(word) >= 4]\n",
    "print(\"e)\", long_words)\n"
   ]
  },
  {
   "cell_type": "code",
   "execution_count": null,
   "id": "5240f545-a42d-4454-8bd3-17aa644a0f70",
   "metadata": {},
   "outputs": [],
   "source": []
  }
 ],
 "metadata": {
  "kernelspec": {
   "display_name": "Python 3 (ipykernel)",
   "language": "python",
   "name": "python3"
  },
  "language_info": {
   "codemirror_mode": {
    "name": "ipython",
    "version": 3
   },
   "file_extension": ".py",
   "mimetype": "text/x-python",
   "name": "python",
   "nbconvert_exporter": "python",
   "pygments_lexer": "ipython3",
   "version": "3.12.4"
  }
 },
 "nbformat": 4,
 "nbformat_minor": 5
}
